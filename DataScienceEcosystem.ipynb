{
 "cells": [
  {
   "cell_type": "markdown",
   "id": "58f30ea0-6444-4928-900e-ed29c107e545",
   "metadata": {},
   "source": [
    "# Data Science Tools and Ecosystem"
   ]
  },
  {
   "cell_type": "markdown",
   "id": "ee7205bf-2ec7-451c-b6b5-f7b12fa04618",
   "metadata": {},
   "source": [
    "In this notebook, Data Science Tools and Ecosystem are summarized.\n"
   ]
  },
  {
   "cell_type": "markdown",
   "id": "cb8837a0-6137-472e-8b17-93948d19036b",
   "metadata": {},
   "source": [
    "Some of the popular languages that Data Scientists use are:\n",
    "1. Python\n",
    "2. R\n",
    "3. SQL\n",
    "4. Java\n",
    "5. Julia\n"
   ]
  },
  {
   "cell_type": "markdown",
   "id": "eb14e643-f2d8-4fb5-9a92-627cb824a043",
   "metadata": {},
   "source": [
    "Some of the commonly used libraries used by Data Scientists include:\n",
    "1. NumPy\n",
    "2. Pandas\n",
    "3. Matplotlib\n",
    "4. Scikit-learn\n",
    "5. TensorFlow\n"
   ]
  },
  {
   "cell_type": "markdown",
   "id": "3d4d56fc-eab8-4701-9a84-403cb186f308",
   "metadata": {},
   "source": [
    "| Data Science Tools |\n",
    "|--------------------|\n",
    "| Jupyter Notebook    |\n",
    "| RStudio             |\n",
    "| Apache Hadoop       |\n"
   ]
  },
  {
   "cell_type": "markdown",
   "id": "fcd4f3a3-2987-4d5a-9df7-3dae095df723",
   "metadata": {},
   "source": [
    "### Below are a few examples of evaluating arithmetic expressions in Python.\n"
   ]
  },
  {
   "cell_type": "code",
   "execution_count": 10,
   "id": "211224d5-16f5-4cfb-a0dc-6920d3e3501b",
   "metadata": {},
   "outputs": [
    {
     "data": {
      "text/plain": [
       "17"
      ]
     },
     "execution_count": 10,
     "metadata": {},
     "output_type": "execute_result"
    }
   ],
   "source": [
    "# This a simple arithmetic expression to multiply then add integers\n",
    "(3 * 4) + 5"
   ]
  },
  {
   "cell_type": "code",
   "execution_count": 12,
   "id": "c9184105-2616-4e04-bf77-a8d6518ef3e3",
   "metadata": {},
   "outputs": [
    {
     "data": {
      "text/plain": [
       "3.3333333333333335"
      ]
     },
     "execution_count": 12,
     "metadata": {},
     "output_type": "execute_result"
    }
   ],
   "source": [
    "# This will convert 200 minutes to hours by dividing by 60\n",
    "minutes = 200\n",
    "hours = minutes / 60\n",
    "hours\n"
   ]
  },
  {
   "cell_type": "markdown",
   "id": "3865434c-db93-447e-9c30-17e07cfb76ad",
   "metadata": {},
   "source": [
    "**Objectives:**\n",
    "- List popular languages for Data Science\n",
    "- List commonly used libraries in Data Science\n",
    "- Create tables and markdown cells in Jupyter notebooks\n",
    "- Perform arithmetic operations in Python\n"
   ]
  },
  {
   "cell_type": "markdown",
   "id": "428d73f4-1601-4f3e-8cbe-96e48f83a994",
   "metadata": {},
   "source": [
    "## Author\n",
    "Samyak Nath\n"
   ]
  },
  {
   "cell_type": "code",
   "execution_count": null,
   "id": "6b1f0b91-afe2-4d32-a106-7a3d0b1419cd",
   "metadata": {},
   "outputs": [],
   "source": []
  }
 ],
 "metadata": {
  "kernelspec": {
   "display_name": "Python 3 (ipykernel)",
   "language": "python",
   "name": "python3"
  },
  "language_info": {
   "codemirror_mode": {
    "name": "ipython",
    "version": 3
   },
   "file_extension": ".py",
   "mimetype": "text/x-python",
   "name": "python",
   "nbconvert_exporter": "python",
   "pygments_lexer": "ipython3",
   "version": "3.12.4"
  }
 },
 "nbformat": 4,
 "nbformat_minor": 5
}
